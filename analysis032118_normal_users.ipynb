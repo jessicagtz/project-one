{
 "cells": [
  {
   "cell_type": "code",
   "execution_count": 1,
   "metadata": {},
   "outputs": [],
   "source": [
    "# Dependencies\n",
    "import tweepy\n",
    "import json\n",
    "import numpy as np\n",
    "import pandas as pd\n",
    "from datetime import datetime\n",
    "import matplotlib.pyplot as plt\n",
    "from configNA import consumer_key, consumer_secret, access_token, access_token_secret\n",
    "from pprint import pprint\n",
    "# Import and Initialize Sentiment Analyzer\n",
    "from vaderSentiment.vaderSentiment import SentimentIntensityAnalyzer\n",
    "analyzer = SentimentIntensityAnalyzer()\n",
    "from pprint import pprint"
   ]
  },
  {
   "cell_type": "code",
   "execution_count": 2,
   "metadata": {},
   "outputs": [],
   "source": [
    "# Setup Tweepy API Authentication\n",
    "auth = tweepy.OAuthHandler(consumer_key, consumer_secret)\n",
    "auth.set_access_token(access_token, access_token_secret)\n",
    "api = tweepy.API(auth, parser=tweepy.parsers.JSONParser())"
   ]
  },
  {
   "cell_type": "code",
   "execution_count": 3,
   "metadata": {},
   "outputs": [
    {
     "data": {
      "text/html": [
       "<div>\n",
       "<style scoped>\n",
       "    .dataframe tbody tr th:only-of-type {\n",
       "        vertical-align: middle;\n",
       "    }\n",
       "\n",
       "    .dataframe tbody tr th {\n",
       "        vertical-align: top;\n",
       "    }\n",
       "\n",
       "    .dataframe thead th {\n",
       "        text-align: right;\n",
       "    }\n",
       "</style>\n",
       "<table border=\"1\" class=\"dataframe\">\n",
       "  <thead>\n",
       "    <tr style=\"text-align: right;\">\n",
       "      <th></th>\n",
       "      <th>normal_users</th>\n",
       "      <th>fitness_users</th>\n",
       "    </tr>\n",
       "  </thead>\n",
       "  <tbody>\n",
       "    <tr>\n",
       "      <th>0</th>\n",
       "      <td>sbwTweet</td>\n",
       "      <td>relentless084</td>\n",
       "    </tr>\n",
       "    <tr>\n",
       "      <th>1</th>\n",
       "      <td>Allisonlmoore</td>\n",
       "      <td>fitplusllc</td>\n",
       "    </tr>\n",
       "    <tr>\n",
       "      <th>2</th>\n",
       "      <td>kristib_t</td>\n",
       "      <td>wchazz</td>\n",
       "    </tr>\n",
       "    <tr>\n",
       "      <th>3</th>\n",
       "      <td>omoawo_</td>\n",
       "      <td>QRoberts747</td>\n",
       "    </tr>\n",
       "    <tr>\n",
       "      <th>4</th>\n",
       "      <td>KelphelpOG</td>\n",
       "      <td>KeynesJohnny</td>\n",
       "    </tr>\n",
       "  </tbody>\n",
       "</table>\n",
       "</div>"
      ],
      "text/plain": [
       "    normal_users  fitness_users\n",
       "0       sbwTweet  relentless084\n",
       "1  Allisonlmoore     fitplusllc\n",
       "2      kristib_t         wchazz\n",
       "3        omoawo_    QRoberts747\n",
       "4     KelphelpOG   KeynesJohnny"
      ]
     },
     "execution_count": 3,
     "metadata": {},
     "output_type": "execute_result"
    }
   ],
   "source": [
    "# Read in merged dataset \n",
    "file = \"datasets/merged_lists_032118.csv\"\n",
    "\n",
    "df = pd.read_csv(file)\n",
    "\n",
    "df.head()"
   ]
  },
  {
   "cell_type": "code",
   "execution_count": 4,
   "metadata": {},
   "outputs": [],
   "source": [
    "normal_users = df[\"normal_users\"].tolist()\n",
    "fitness_users = df[\"fitness_users\"].tolist()\n",
    "# normal_users\n",
    "# fitness_users"
   ]
  },
  {
   "cell_type": "code",
   "execution_count": 5,
   "metadata": {},
   "outputs": [],
   "source": [
    "# Set target twitter accounts \n",
    "targetnormal_users = normal_users \n",
    "targetfitness_users = fitness_users\n",
    "\n",
    "# Lists to hold user accounts, tweets, dates, & sentiments\n",
    "user_acct = []\n",
    "tweet_txt = []\n",
    "tweet_dt =[]\n",
    "# Vader lists \n",
    "compound_list = []\n",
    "positive_list = []\n",
    "negative_list = []\n",
    "neutral_list = []"
   ]
  },
  {
   "cell_type": "code",
   "execution_count": null,
   "metadata": {},
   "outputs": [],
   "source": [
    "# # Loop through all fitness users \n",
    "# for target in targetfitness_users:\n",
    "    \n",
    "#     # Loop through once (20 tweets)\n",
    "#     for x in range(1):\n",
    "        \n",
    "#         # Get tweets for one page for each user (20 tweets)\n",
    "#         public_tweets = api.user_timeline(target, page=x)\n",
    "        \n",
    "#         # Loop through all tweets\n",
    "#         for tweet in public_tweets:\n",
    "            \n",
    "#             # Run Vader Analysis on each tweet\n",
    "#             results = analyzer.polarity_scores(tweet[\"text\"])\n",
    "#             compound = results[\"compound\"]\n",
    "#             pos = results[\"pos\"]\n",
    "#             neu = results[\"neu\"]\n",
    "#             neg = results[\"neg\"]\n",
    "            \n",
    "#             # Add each value to the appropriate list \n",
    "#             user_acct.append(target)\n",
    "#             tweet_txt.append(tweet[\"text\"])\n",
    "#             tweet_dt.append(tweet[\"created_at\"])\n",
    "            \n",
    "#             compound_list.append(compound)\n",
    "#             positive_list.append(pos)\n",
    "#             negative_list.append(neg)\n",
    "#             neutral_list.append(neu)"
   ]
  },
  {
   "cell_type": "markdown",
   "metadata": {},
   "source": [
    "### Users possibly changed their username or deleted account since fitness usernames were extracted, see error below\n",
    "TweepError: [{'code': 34, 'message': 'Sorry, that page does not exist.'}]\n"
   ]
  },
  {
   "cell_type": "code",
   "execution_count": null,
   "metadata": {},
   "outputs": [],
   "source": [
    "# # Convert tweet timestamps to datetime objects\n",
    "# converted_timestamps = []\n",
    "# for dt in tweet_dt:\n",
    "#     converted_time = datetime.strptime(dt, \"%a %b %d %H:%M:%S %z %Y\")\n",
    "#     converted_timestamps.append(converted_time)\n",
    "    \n",
    "# # Confirm length of list \n",
    "# print(len(converted_timestamps))"
   ]
  },
  {
   "cell_type": "markdown",
   "metadata": {},
   "source": [
    "### Tweet count: 7465\n",
    "### Tweet count should have been 10,000 (500 users * 20 tweets); likely changed handle or deleted account."
   ]
  },
  {
   "cell_type": "code",
   "execution_count": null,
   "metadata": {},
   "outputs": [],
   "source": [
    "# # Create dataframe for all accounts and tweets\n",
    "# df_fit = pd.DataFrame({\"Account\":user_acct,\n",
    "#                    \"Tweet Text\":tweet_txt,\n",
    "#                    \"Date\":converted_timestamps,\n",
    "#                    \"Compound\":compound_list,\n",
    "#                    \"Positive\":positive_list,\n",
    "#                    \"Negative\":negative_list,\n",
    "#                    \"Neutral\":neutral_list\n",
    "#                   })\n",
    "# df_fit.head()\n",
    "# # Reorder columns \n",
    "# df_fit2 = df_fit[['Account', 'Date', 'Tweet Text', 'Compound', 'Positive', 'Neutral', 'Negative']]\n",
    "# df_fit2.head()"
   ]
  },
  {
   "cell_type": "code",
   "execution_count": null,
   "metadata": {},
   "outputs": [],
   "source": [
    "# #Save df to csv\n",
    "# df_fit2.to_csv(\"datasets/fit_tweets.csv\",index=False)"
   ]
  },
  {
   "cell_type": "code",
   "execution_count": null,
   "metadata": {},
   "outputs": [],
   "source": [
    "# from matplotlib import style\n",
    "# style.use('ggplot')\n",
    "\n",
    "# plt.scatter(range(len(df_fit2[\"Date\"].values)), df_fit2[\"Compound\"], edgecolor=\"black\", color='green', marker=\"o\",\n",
    "#             alpha=0.65, label=\"fitness users\")\n",
    "\n",
    "# # Set title and axis labels\n",
    "# plt.title(\"Sentiment Analysis of Fitness Tweets\")\n",
    "# plt.ylabel(\"Tweet Polarity (Compound Score)\")\n",
    "# plt.xlabel(\"Tweets Ago\")\n",
    "# # plt.legend(bbox_to_anchor=(1, 1),title=\"Media Sources\")\n",
    "# plt.xticks(rotation=\"vertical\")\n",
    "# # plt.xlim(-2,102)\n",
    "# # plt.ylim([-1.05, 1.05])\n",
    "\n",
    "# # Save and show the figure\n",
    "# plt.savefig(\"SentimentAnalysisScatterplot.png\")\n",
    "# plt.show()"
   ]
  },
  {
   "cell_type": "code",
   "execution_count": 6,
   "metadata": {},
   "outputs": [
    {
     "ename": "TweepError",
     "evalue": "[{'code': 34, 'message': 'Sorry, that page does not exist.'}]",
     "output_type": "error",
     "traceback": [
      "\u001b[1;31m---------------------------------------------------------------------------\u001b[0m",
      "\u001b[1;31mTweepError\u001b[0m                                Traceback (most recent call last)",
      "\u001b[1;32m<ipython-input-6-daefe7b13d91>\u001b[0m in \u001b[0;36m<module>\u001b[1;34m()\u001b[0m\n\u001b[0;32m      6\u001b[0m \u001b[1;33m\u001b[0m\u001b[0m\n\u001b[0;32m      7\u001b[0m         \u001b[1;31m# Get tweets for one page for each user (20 tweets)\u001b[0m\u001b[1;33m\u001b[0m\u001b[1;33m\u001b[0m\u001b[0m\n\u001b[1;32m----> 8\u001b[1;33m         \u001b[0mpublic_tweets\u001b[0m \u001b[1;33m=\u001b[0m \u001b[0mapi\u001b[0m\u001b[1;33m.\u001b[0m\u001b[0muser_timeline\u001b[0m\u001b[1;33m(\u001b[0m\u001b[0mtarget\u001b[0m\u001b[1;33m,\u001b[0m \u001b[0mpage\u001b[0m\u001b[1;33m=\u001b[0m\u001b[0mx\u001b[0m\u001b[1;33m)\u001b[0m\u001b[1;33m\u001b[0m\u001b[0m\n\u001b[0m\u001b[0;32m      9\u001b[0m \u001b[1;33m\u001b[0m\u001b[0m\n\u001b[0;32m     10\u001b[0m         \u001b[1;31m# Loop through all tweets\u001b[0m\u001b[1;33m\u001b[0m\u001b[1;33m\u001b[0m\u001b[0m\n",
      "\u001b[1;32m~\\AppData\\Local\\Continuum\\anaconda3\\envs\\PythonData\\lib\\site-packages\\tweepy\\binder.py\u001b[0m in \u001b[0;36m_call\u001b[1;34m(*args, **kwargs)\u001b[0m\n\u001b[0;32m    248\u001b[0m             \u001b[1;32mreturn\u001b[0m \u001b[0mmethod\u001b[0m\u001b[1;33m\u001b[0m\u001b[0m\n\u001b[0;32m    249\u001b[0m         \u001b[1;32melse\u001b[0m\u001b[1;33m:\u001b[0m\u001b[1;33m\u001b[0m\u001b[0m\n\u001b[1;32m--> 250\u001b[1;33m             \u001b[1;32mreturn\u001b[0m \u001b[0mmethod\u001b[0m\u001b[1;33m.\u001b[0m\u001b[0mexecute\u001b[0m\u001b[1;33m(\u001b[0m\u001b[1;33m)\u001b[0m\u001b[1;33m\u001b[0m\u001b[0m\n\u001b[0m\u001b[0;32m    251\u001b[0m \u001b[1;33m\u001b[0m\u001b[0m\n\u001b[0;32m    252\u001b[0m     \u001b[1;31m# Set pagination mode\u001b[0m\u001b[1;33m\u001b[0m\u001b[1;33m\u001b[0m\u001b[0m\n",
      "\u001b[1;32m~\\AppData\\Local\\Continuum\\anaconda3\\envs\\PythonData\\lib\\site-packages\\tweepy\\binder.py\u001b[0m in \u001b[0;36mexecute\u001b[1;34m(self)\u001b[0m\n\u001b[0;32m    232\u001b[0m                     \u001b[1;32mraise\u001b[0m \u001b[0mRateLimitError\u001b[0m\u001b[1;33m(\u001b[0m\u001b[0merror_msg\u001b[0m\u001b[1;33m,\u001b[0m \u001b[0mresp\u001b[0m\u001b[1;33m)\u001b[0m\u001b[1;33m\u001b[0m\u001b[0m\n\u001b[0;32m    233\u001b[0m                 \u001b[1;32melse\u001b[0m\u001b[1;33m:\u001b[0m\u001b[1;33m\u001b[0m\u001b[0m\n\u001b[1;32m--> 234\u001b[1;33m                     \u001b[1;32mraise\u001b[0m \u001b[0mTweepError\u001b[0m\u001b[1;33m(\u001b[0m\u001b[0merror_msg\u001b[0m\u001b[1;33m,\u001b[0m \u001b[0mresp\u001b[0m\u001b[1;33m,\u001b[0m \u001b[0mapi_code\u001b[0m\u001b[1;33m=\u001b[0m\u001b[0mapi_error_code\u001b[0m\u001b[1;33m)\u001b[0m\u001b[1;33m\u001b[0m\u001b[0m\n\u001b[0m\u001b[0;32m    235\u001b[0m \u001b[1;33m\u001b[0m\u001b[0m\n\u001b[0;32m    236\u001b[0m             \u001b[1;31m# Parse the response payload\u001b[0m\u001b[1;33m\u001b[0m\u001b[1;33m\u001b[0m\u001b[0m\n",
      "\u001b[1;31mTweepError\u001b[0m: [{'code': 34, 'message': 'Sorry, that page does not exist.'}]"
     ]
    }
   ],
   "source": [
    "# Loop through all normal users \n",
    "for target in targetnormal_users:\n",
    "    \n",
    "    # Loop through once (20 tweets)\n",
    "    for x in range(1):\n",
    "        \n",
    "        # Get tweets for one page for each user (20 tweets)\n",
    "        public_tweets = api.user_timeline(target, page=x)\n",
    "        \n",
    "        # Loop through all tweets\n",
    "        for tweet in public_tweets:\n",
    "            \n",
    "            # Run Vader Analysis on each tweet\n",
    "            results = analyzer.polarity_scores(tweet[\"text\"])\n",
    "            compound = results[\"compound\"]\n",
    "            pos = results[\"pos\"]\n",
    "            neu = results[\"neu\"]\n",
    "            neg = results[\"neg\"]\n",
    "            \n",
    "            # Add each value to the appropriate list \n",
    "            user_acct.append(target)\n",
    "            tweet_txt.append(tweet[\"text\"])\n",
    "            tweet_dt.append(tweet[\"created_at\"])\n",
    "            \n",
    "            compound_list.append(compound)\n",
    "            positive_list.append(pos)\n",
    "            negative_list.append(neg)\n",
    "            neutral_list.append(neu)"
   ]
  },
  {
   "cell_type": "markdown",
   "metadata": {},
   "source": [
    "### Users possibly changed their username or deleted account since fitness usernames were extracted, see error below\n",
    "TweepError: [{'code': 34, 'message': 'Sorry, that page does not exist.'}]"
   ]
  },
  {
   "cell_type": "code",
   "execution_count": 7,
   "metadata": {},
   "outputs": [
    {
     "name": "stdout",
     "output_type": "stream",
     "text": [
      "200\n"
     ]
    }
   ],
   "source": [
    "# Convert tweet timestamps to datetime objects\n",
    "converted_timestamps = []\n",
    "for dt in tweet_dt:\n",
    "    converted_time = datetime.strptime(dt, \"%a %b %d %H:%M:%S %z %Y\")\n",
    "    converted_timestamps.append(converted_time)\n",
    "    \n",
    "# Confirm length of list \n",
    "print(len(converted_timestamps))"
   ]
  },
  {
   "cell_type": "markdown",
   "metadata": {},
   "source": [
    "### Tweet count: 200\n",
    "### why?"
   ]
  },
  {
   "cell_type": "code",
   "execution_count": 8,
   "metadata": {},
   "outputs": [
    {
     "data": {
      "text/html": [
       "<div>\n",
       "<style scoped>\n",
       "    .dataframe tbody tr th:only-of-type {\n",
       "        vertical-align: middle;\n",
       "    }\n",
       "\n",
       "    .dataframe tbody tr th {\n",
       "        vertical-align: top;\n",
       "    }\n",
       "\n",
       "    .dataframe thead th {\n",
       "        text-align: right;\n",
       "    }\n",
       "</style>\n",
       "<table border=\"1\" class=\"dataframe\">\n",
       "  <thead>\n",
       "    <tr style=\"text-align: right;\">\n",
       "      <th></th>\n",
       "      <th>Account</th>\n",
       "      <th>Date</th>\n",
       "      <th>Tweet Text</th>\n",
       "      <th>Compound</th>\n",
       "      <th>Positive</th>\n",
       "      <th>Neutral</th>\n",
       "      <th>Negative</th>\n",
       "    </tr>\n",
       "  </thead>\n",
       "  <tbody>\n",
       "    <tr>\n",
       "      <th>0</th>\n",
       "      <td>sbwTweet</td>\n",
       "      <td>2018-03-21 18:46:49+00:00</td>\n",
       "      <td>RT @MikeOutYonder: Trump: I'm not firing Muell...</td>\n",
       "      <td>0.7390</td>\n",
       "      <td>0.299</td>\n",
       "      <td>0.701</td>\n",
       "      <td>0.000</td>\n",
       "    </tr>\n",
       "    <tr>\n",
       "      <th>1</th>\n",
       "      <td>sbwTweet</td>\n",
       "      <td>2018-03-21 16:21:42+00:00</td>\n",
       "      <td>#EpicFail as a snark, @ClaraJeffery, not even ...</td>\n",
       "      <td>0.0000</td>\n",
       "      <td>0.000</td>\n",
       "      <td>1.000</td>\n",
       "      <td>0.000</td>\n",
       "    </tr>\n",
       "    <tr>\n",
       "      <th>2</th>\n",
       "      <td>sbwTweet</td>\n",
       "      <td>2018-03-21 16:10:11+00:00</td>\n",
       "      <td>And if he couldn’t use his fists, Biden has pr...</td>\n",
       "      <td>-0.4588</td>\n",
       "      <td>0.000</td>\n",
       "      <td>0.857</td>\n",
       "      <td>0.143</td>\n",
       "    </tr>\n",
       "    <tr>\n",
       "      <th>3</th>\n",
       "      <td>sbwTweet</td>\n",
       "      <td>2018-03-21 16:08:00+00:00</td>\n",
       "      <td>.@TeamCavuto, @Mr.KRudd advises @potus to use ...</td>\n",
       "      <td>-0.6486</td>\n",
       "      <td>0.000</td>\n",
       "      <td>0.739</td>\n",
       "      <td>0.261</td>\n",
       "    </tr>\n",
       "    <tr>\n",
       "      <th>4</th>\n",
       "      <td>sbwTweet</td>\n",
       "      <td>2018-03-21 15:52:19+00:00</td>\n",
       "      <td>Just to help @AP_Politics, you might want to e...</td>\n",
       "      <td>0.8143</td>\n",
       "      <td>0.307</td>\n",
       "      <td>0.693</td>\n",
       "      <td>0.000</td>\n",
       "    </tr>\n",
       "  </tbody>\n",
       "</table>\n",
       "</div>"
      ],
      "text/plain": [
       "    Account                      Date  \\\n",
       "0  sbwTweet 2018-03-21 18:46:49+00:00   \n",
       "1  sbwTweet 2018-03-21 16:21:42+00:00   \n",
       "2  sbwTweet 2018-03-21 16:10:11+00:00   \n",
       "3  sbwTweet 2018-03-21 16:08:00+00:00   \n",
       "4  sbwTweet 2018-03-21 15:52:19+00:00   \n",
       "\n",
       "                                          Tweet Text  Compound  Positive  \\\n",
       "0  RT @MikeOutYonder: Trump: I'm not firing Muell...    0.7390     0.299   \n",
       "1  #EpicFail as a snark, @ClaraJeffery, not even ...    0.0000     0.000   \n",
       "2  And if he couldn’t use his fists, Biden has pr...   -0.4588     0.000   \n",
       "3  .@TeamCavuto, @Mr.KRudd advises @potus to use ...   -0.6486     0.000   \n",
       "4  Just to help @AP_Politics, you might want to e...    0.8143     0.307   \n",
       "\n",
       "   Neutral  Negative  \n",
       "0    0.701     0.000  \n",
       "1    1.000     0.000  \n",
       "2    0.857     0.143  \n",
       "3    0.739     0.261  \n",
       "4    0.693     0.000  "
      ]
     },
     "execution_count": 8,
     "metadata": {},
     "output_type": "execute_result"
    }
   ],
   "source": [
    "# Create dataframe for all accounts and tweets\n",
    "df_norm = pd.DataFrame({\"Account\":user_acct,\n",
    "                   \"Tweet Text\":tweet_txt,\n",
    "                   \"Date\":converted_timestamps,\n",
    "                   \"Compound\":compound_list,\n",
    "                   \"Positive\":positive_list,\n",
    "                   \"Negative\":negative_list,\n",
    "                   \"Neutral\":neutral_list\n",
    "                  })\n",
    "df_norm.head()\n",
    "# Reorder columns \n",
    "df_norm2 = df_norm[['Account', 'Date', 'Tweet Text', 'Compound', 'Positive', 'Neutral', 'Negative']]\n",
    "df_norm2.head()"
   ]
  },
  {
   "cell_type": "code",
   "execution_count": 9,
   "metadata": {},
   "outputs": [],
   "source": [
    "#Save df to csv\n",
    "df_norm2.to_csv(\"datasets/norm_tweets.csv\",index=False)"
   ]
  },
  {
   "cell_type": "code",
   "execution_count": 11,
   "metadata": {},
   "outputs": [
    {
     "data": {
      "image/png": "[encoded data removed]",
      "text/plain": [
       "<matplotlib.figure.Figure at 0x19452c180b8>"
      ]
     },
     "metadata": {},
     "output_type": "display_data"
    }
   ],
   "source": [
    "from matplotlib import style\n",
    "style.use('ggplot')\n",
    "\n",
    "plt.scatter(range(len(df_norm2[\"Date\"].values)), df_norm2[\"Compound\"], edgecolor=\"black\", color='dodgerblue', marker=\"o\",\n",
    "            alpha=0.65, label=\"normal users\")\n",
    "\n",
    "# Set title and axis labels\n",
    "plt.title(\"Sentiment Analysis of Normal Tweets\")\n",
    "plt.ylabel(\"Tweet Polarity (Compound Score)\")\n",
    "plt.xlabel(\"Tweets Ago\")\n",
    "# plt.legend(bbox_to_anchor=(1, 1),title=\"Media Sources\")\n",
    "plt.xticks(rotation=\"vertical\")\n",
    "# plt.xlim(-2,102)\n",
    "# plt.ylim([-1.05, 1.05])\n",
    "\n",
    "# Save and show the figure\n",
    "plt.savefig(\"SentimentAnalysisScatterplot_norm.png\")\n",
    "plt.show()"
   ]
  },
  {
   "cell_type": "code",
   "execution_count": null,
   "metadata": {},
   "outputs": [],
   "source": []
  }
 ],
 "metadata": {
  "kernelspec": {
   "display_name": "Python 3",
   "language": "python",
   "name": "python3"
  },
  "language_info": {
   "codemirror_mode": {
    "name": "ipython",
    "version": 3
   },
   "file_extension": ".py",
   "mimetype": "text/x-python",
   "name": "python",
   "nbconvert_exporter": "python",
   "pygments_lexer": "ipython3",
   "version": "3.6.4"
  }
 },
 "nbformat": 4,
 "nbformat_minor": 2
}
