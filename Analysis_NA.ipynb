{
 "cells": [
  {
   "cell_type": "code",
   "execution_count": null,
   "metadata": {
    "collapsed": true
   },
   "outputs": [],
   "source": [
    "import sys\n",
    "if sys.version_info[0] < 3:\n",
    "    import got\n",
    "else:\n",
    "    import got3 as got\n",
    "\n",
    "def main():\n",
    "\n",
    "\tdef printTweet(descr, t):\n",
    "\t\tprint(descr)\n",
    "\t\tprint(\"Username: %s\" % t.username)\n",
    "\t\tprint(\"Retweets: %d\" % t.retweets)\n",
    "\t\tprint(\"Text: %s\" % t.text)\n",
    "\t\tprint(\"Mentions: %s\" % t.mentions)\n",
    "\t\tprint(\"Hashtags: %s\\n\" % t.hashtags)\n",
    "\n",
    "\t# Example 1 - Get tweets by username\n",
    "\ttweetCriteria = got.manager.TweetCriteria().setUsername('barackobama').setMaxTweets(1)\n",
    "\ttweet = got.manager.TweetManager.getTweets(tweetCriteria)[0]\n",
    "\n",
    "\tprintTweet(\"### Example 1 - Get tweets by username [barackobama]\", tweet)\n",
    "\n",
    "\t# Example 2 - Get tweets by query search\n",
    "\ttweetCriteria = got.manager.TweetCriteria().setQuerySearch('europe refugees').setSince(\"2015-05-01\").setUntil(\"2015-09-30\").setMaxTweets(1)\n",
    "\ttweet = got.manager.TweetManager.getTweets(tweetCriteria)[0]\n",
    "\n",
    "\tprintTweet(\"### Example 2 - Get tweets by query search [europe refugees]\", tweet)\n",
    "\n",
    "\t# Example 3 - Get tweets by username and bound dates\n",
    "\ttweetCriteria = got.manager.TweetCriteria().setUsername(\"barackobama\").setSince(\"2015-09-10\").setUntil(\"2015-09-12\").setMaxTweets(1)\n",
    "\ttweet = got.manager.TweetManager.getTweets(tweetCriteria)[0]\n",
    "\n",
    "\tprintTweet(\"### Example 3 - Get tweets by username and bound dates [barackobama, '2015-09-10', '2015-09-12']\", tweet)\n",
    "\n",
    "if __name__ == '__main__':\n",
    "\tmain()"
   ]
  }
 ],
 "metadata": {
  "kernelspec": {
   "display_name": "Python 3",
   "language": "python",
   "name": "python3"
  },
  "language_info": {
   "codemirror_mode": {
    "name": "ipython",
    "version": 3
   },
   "file_extension": ".py",
   "mimetype": "text/x-python",
   "name": "python",
   "nbconvert_exporter": "python",
   "pygments_lexer": "ipython3",
   "version": "3.6.3"
  }
 },
 "nbformat": 4,
 "nbformat_minor": 2
}
