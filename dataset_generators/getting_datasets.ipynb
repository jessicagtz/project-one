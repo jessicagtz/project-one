{
 "cells": [
  {
   "cell_type": "code",
   "execution_count": null,
   "metadata": {
    "collapsed": true
   },
   "outputs": [],
   "source": [
    "# Dependencies\n",
    "import tweepy\n",
    "import random\n",
    "import time\n",
    "import json\n",
    "import matplotlib.pyplot as plt\n",
    "import pandas as pd\n",
    "import numpy as np\n",
    "from pprint import pprint\n",
    "\n",
    "# Twitter API Keys\n",
    "from config import (consumer_key, \n",
    "                    consumer_secret, \n",
    "                    access_token, \n",
    "                    access_token_secret)\n",
    "from vaderSentiment.vaderSentiment import SentimentIntensityAnalyzer\n",
    "analyzer = SentimentIntensityAnalyzer()\n",
    "\n",
    "# Setup Tweepy API Authentication\n",
    "auth = tweepy.OAuthHandler(consumer_key, consumer_secret)\n",
    "auth.set_access_token(access_token, access_token_secret)\n",
    "api = tweepy.API(auth, parser=tweepy.parsers.JSONParser())"
   ]
  },
  {
   "cell_type": "code",
   "execution_count": null,
   "metadata": {
    "collapsed": true
   },
   "outputs": [],
   "source": [
    "# scan timeline and append unique screen names to our list of 500 'normal' twitter users\n",
    "\n",
    "normal_tweeters = []\n",
    "\n",
    "while len(normal_tweeters)<=500:\n",
    "    normals = api.search('today',count=100,lang='en')\n",
    "    normal_tweets = normals['statuses']\n",
    "    for status in normal_tweets:\n",
    "        if status['user']['screen_name'] not in normal_tweeters:\n",
    "            if status['user']['followers_count']<1500 and\\\n",
    "            status['user']['followers_count']>15 and\\\n",
    "            status['user']['statuses_count']>100 and\\\n",
    "            status['user']['statuses_count']<20000:\n",
    "                normal_tweeters.append(status['user']['screen_name'])\n",
    "    time.sleep(30)\n",
    "\n",
    "# convert to pandas DF, save to CSV\n",
    "normal_users_df = pd.DataFrame({\n",
    "    'Screen Name':normal_tweeters\n",
    "})\n",
    "normal_users_df.to_csv('normal_user_names.csv')"
   ]
  },
  {
   "cell_type": "code",
   "execution_count": null,
   "metadata": {
    "collapsed": true
   },
   "outputs": [],
   "source": [
    "# generate a basic summary table for a sample of 100 users\n",
    "num_followers = []\n",
    "num_following = []\n",
    "statuses_count = []\n",
    "test_users = random.sample(normal_tweeters,100)\n",
    "\n",
    "for tweeter in test_users:\n",
    "    profile = api.get_user(tweeter)\n",
    "    num_followers.append(profile['followers_count'])\n",
    "    num_following.append(profile['friends_count'])\n",
    "    statuses_count.append(profile['statuses_count'])"
   ]
  },
  {
   "cell_type": "code",
   "execution_count": null,
   "metadata": {
    "collapsed": true
   },
   "outputs": [],
   "source": [
    "# convert lists into a pandas DF, save to CSV\n",
    "normal_summ = pd.DataFrame({\n",
    "    'Screen Name':test_users,\n",
    "    'Number of Followers':num_followers,\n",
    "    'Number Following':num_following,\n",
    "    'Number of Statuses':statuses_count\n",
    "})\n",
    "normal_summ.to_csv('normal_user_summary.csv')"
   ]
  },
  {
   "cell_type": "code",
   "execution_count": null,
   "metadata": {
    "collapsed": true
   },
   "outputs": [],
   "source": [
    "# ------ Get data for our 'fitness users' ------\n",
    "# Target Fitness Hashtags\n",
    "target_tags = [\"#nopainnogain\", \"#cardio\", \"#cycling\", \"#fitspo\", \"#exercise\", \"#gym\", \n",
    "               \"#fitfam\", \"#fitlife\",\"#fitness\", \"#fitnessaddict\", \"#gymlife\", \"#gymrat\", \n",
    "              \"#gymtime\", \"#sweat\", \"#workout\", \"#marathon\", \"#runners\", \"#fit\"\n",
    "              \"#bodybuilding\", \"#beachbody\", \"#motivation\", \"#justdoit\", \"#TrainHard\", \"#GetFit\"]\n",
    "fitness_user_accounts = {}\n",
    "\n",
    "# \"Real Person\" Filters\n",
    "min_tweets = 100\n",
    "max_tweets = 20000\n",
    "max_followers = 1500\n",
    "min_following = 50\n",
    "lang = \"en\"\n",
    "    \n",
    "#Loop through the hashtags  \n",
    "for tag in target_tags: \n",
    "    \n",
    "    # Variable for holding the oldest tweet\n",
    "    oldest_tweet=None\n",
    "    \n",
    "    # Loop through target tags\n",
    "    for x in range(7):\n",
    "        \n",
    "        public_tweets = api.search(tag, count=100, result_type=\"recent\", max_id=oldest_tweet)\n",
    "    #   pprint(public_tweets)\n",
    "    \n",
    "        # Loop through all tweets\n",
    "        for tweet in public_tweets[\"statuses\"]:\n",
    "        \n",
    "            # Find the screen name\n",
    "            user = tweet[\"user\"][\"screen_name\"]\n",
    "        \n",
    "            # Define whether user is a 'real' person or not\n",
    "            if( \n",
    "                tweet[\"user\"][\"lang\"] == \"en\" and \n",
    "                \"gym\" not in tweet[\"user\"][\"description\"] and\n",
    "                tweet[\"user\"][\"followers_count\"] < max_followers and \n",
    "                tweet[\"user\"][\"statuses_count\"] > min_tweets and \n",
    "                tweet[\"user\"][\"statuses_count\"] < max_tweets and \n",
    "                tweet[\"user\"][\"friends_count\"] > min_following):\n",
    "            \n",
    "                    # Add screen name to user list\n",
    "                    if(user not in fitness_user_accounts):\n",
    "                        fitness_user_accounts[user] = 1\n",
    "                    \n",
    "                    # If it already exists add 1 to its count\n",
    "                    else:\n",
    "                        fitness_user_accounts[user] += 1 \n",
    "    \n",
    "       \n",
    "\n",
    "print(fitness_user_accounts)"
   ]
  },
  {
   "cell_type": "code",
   "execution_count": null,
   "metadata": {
    "collapsed": true
   },
   "outputs": [],
   "source": [
    "# Convert user_accounts object into a series\n",
    "fitness_user_accounts_pd = pd.Series(fitness_user_accounts)\n",
    "\n",
    "fitness_user_accounts_pd.sort_values(ascending=False)\n",
    "\n",
    "# Export the list\n",
    "\n",
    "fitness_user_accounts_pd.to_csv(\"fitness_users2.csv\", encoding='utf-8')"
   ]
  },
  {
   "cell_type": "code",
   "execution_count": null,
   "metadata": {
    "collapsed": true
   },
   "outputs": [],
   "source": []
  }
 ],
 "metadata": {
  "kernelspec": {
   "display_name": "Python 3",
   "language": "python",
   "name": "python3"
  },
  "language_info": {
   "codemirror_mode": {
    "name": "ipython",
    "version": 3
   },
   "file_extension": ".py",
   "mimetype": "text/x-python",
   "name": "python",
   "nbconvert_exporter": "python",
   "pygments_lexer": "ipython3",
   "version": "3.6.4"
  }
 },
 "nbformat": 4,
 "nbformat_minor": 2
}
