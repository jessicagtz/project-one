{
 "cells": [
  {
   "cell_type": "code",
   "execution_count": null,
   "metadata": {
    "collapsed": true
   },
   "outputs": [],
   "source": [
    "# Dependencies\n",
    "import tweepy\n",
    "import random\n",
    "import time\n",
    "import matplotlib.pyplot as plt\n",
    "import pandas as pd\n",
    "import numpy as np\n",
    "from pprint import pprint\n",
    "\n",
    "# Twitter API Keys\n",
    "from config import (consumer_key, \n",
    "                    consumer_secret, \n",
    "                    access_token, \n",
    "                    access_token_secret)\n",
    "from vaderSentiment.vaderSentiment import SentimentIntensityAnalyzer\n",
    "analyzer = SentimentIntensityAnalyzer()\n",
    "\n",
    "# Setup Tweepy API Authentication\n",
    "auth = tweepy.OAuthHandler(consumer_key, consumer_secret)\n",
    "auth.set_access_token(access_token, access_token_secret)\n",
    "api = tweepy.API(auth, parser=tweepy.parsers.JSONParser())"
   ]
  },
  {
   "cell_type": "code",
   "execution_count": null,
   "metadata": {},
   "outputs": [],
   "source": [
    "# scan timeline and append unique screen names to our list of 500 'normal' twitter users\n",
    "\n",
    "normal_tweeters = []\n",
    "\n",
    "while len(normal_tweeters)<=500:\n",
    "    normals = api.search('today',count=100,lang='en')\n",
    "    normal_tweets = normals['statuses']\n",
    "    for status in normal_tweets:\n",
    "        if status['user']['screen_name'] not in normal_tweeters:\n",
    "            if status['user']['followers_count']<1500 and\\\n",
    "            status['user']['followers_count']>15 and\\\n",
    "            status['user']['statuses_count']>100 and\\\n",
    "            status['user']['statuses_count']<20000:\n",
    "                normal_tweeters.append(status['user']['screen_name'])\n",
    "    time.sleep(30)\n",
    "\n",
    "# convert to pandas DF, save to CSV\n",
    "normal_users_df = pd.DataFrame({\n",
    "    'Screen Name':normal_tweeters\n",
    "})\n",
    "normal_users_df.to_csv('normal_user_names.csv')"
   ]
  },
  {
   "cell_type": "code",
   "execution_count": null,
   "metadata": {},
   "outputs": [],
   "source": [
    "# generate a basic summary table for a sample of 100 users\n",
    "num_followers = []\n",
    "num_following = []\n",
    "statuses_count = []\n",
    "test_users = random.sample(normal_tweeters,100)\n",
    "\n",
    "for tweeter in test_users:\n",
    "    profile = api.get_user(tweeter)\n",
    "    num_followers.append(profile['followers_count'])\n",
    "    num_following.append(profile['friends_count'])\n",
    "    statuses_count.append(profile['statuses_count'])"
   ]
  },
  {
   "cell_type": "code",
   "execution_count": null,
   "metadata": {},
   "outputs": [],
   "source": [
    "# convert lists into a pandas DF, save to CSV\n",
    "normal_summ = pd.DataFrame({\n",
    "    'Screen Name':test_users,\n",
    "    'Number of Followers':num_followers,\n",
    "    'Number Following':num_following,\n",
    "    'Number of Statuses':statuses_count\n",
    "})\n",
    "normal_summ.to_csv('normal_user_summary.csv')\n",
    "    "
   ]
  }
 ],
 "metadata": {
  "kernelspec": {
   "display_name": "Python 3",
   "language": "python",
   "name": "python3"
  },
  "language_info": {
   "codemirror_mode": {
    "name": "ipython",
    "version": 3
   },
   "file_extension": ".py",
   "mimetype": "text/x-python",
   "name": "python",
   "nbconvert_exporter": "python",
   "pygments_lexer": "ipython3",
   "version": "3.6.3"
  }
 },
 "nbformat": 4,
 "nbformat_minor": 2
}
